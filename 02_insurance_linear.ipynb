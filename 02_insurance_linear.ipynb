{
 "cells": [
  {
   "cell_type": "code",
   "execution_count": null,
   "metadata": {
    "id": "uvT718T-necc"
   },
   "outputs": [],
   "source": [
    "# Jovian Commit Essentials\n",
    "# Please retain and execute this cell without modifying the contents for `jovian.commit` to work\n",
    "!pip install jovian --upgrade -q\n",
    "import jovian\n",
    "jovian.utils.colab.set_colab_file_id('14Ui2_4NVTkpx9vmQarcwb15Yd-qlaewl')"
   ]
  },
  {
   "cell_type": "markdown",
   "metadata": {
    "_cell_guid": "b1076dfc-b9ad-4769-8c92-a6c4dae69d19",
    "_uuid": "8f2839f25d086af736a60e9eeb907d3b93b6e0e5",
    "id": "9NmwqRzDnedW"
   },
   "source": [
    "# Insurance cost prediction using linear regression\n",
    "\n",
    "Make a submisson here: https://jovian.ai/learn/deep-learning-with-pytorch-zero-to-gans/assignment/assignment-2-train-your-first-model\n",
    "\n",
    "In this assignment we're going to use information like a person's age, sex, BMI, no. of children and smoking habit to predict the price of yearly medical bills. This kind of model is useful for insurance companies to determine the yearly insurance premium for a person. The dataset for this problem is taken from [Kaggle](https://www.kaggle.com/mirichoi0218/insurance).\n",
    "\n",
    "\n",
    "We will create a model with the following steps:\n",
    "1. Download and explore the dataset\n",
    "2. Prepare the dataset for training\n",
    "3. Create a linear regression model\n",
    "4. Train the model to fit the data\n",
    "5. Make predictions using the trained model\n",
    "\n",
    "\n",
    "This assignment builds upon the concepts from the first 2 lessons. It will help to review these Jupyter notebooks:\n",
    "- PyTorch basics: https://jovian.ai/aakashns/01-pytorch-basics\n",
    "- Linear Regression: https://jovian.ai/aakashns/02-linear-regression\n",
    "- Logistic Regression: https://jovian.ai/aakashns/03-logistic-regression\n",
    "- Linear regression (minimal): https://jovian.ai/aakashns/housing-linear-minimal\n",
    "- Logistic regression (minimal): https://jovian.ai/aakashns/mnist-logistic-minimal\n",
    "\n",
    "As you go through this notebook, you will find a **???** in certain places. Your job is to replace the **???** with appropriate code or values, to ensure that the notebook runs properly end-to-end . In some cases, you'll be required to choose some hyperparameters (learning rate, batch size etc.). Try to experiment with the hypeparameters to get the lowest loss.\n"
   ]
  },
  {
   "cell_type": "code",
   "execution_count": null,
   "metadata": {
    "id": "hXseG2Z7neda"
   },
   "outputs": [],
   "source": [
    "# Uncomment and run the appropriate command for your operating system, if required\n",
    "\n",
    "# Linux / Binder\n",
    "# !pip install numpy matplotlib pandas torch==1.7.0+cpu torchvision==0.8.1+cpu torchaudio==0.7.0 -f https://download.pytorch.org/whl/torch_stable.html\n",
    "\n",
    "# Windows\n",
    "# !pip install numpy matplotlib pandas torch==1.7.0+cpu torchvision==0.8.1+cpu torchaudio==0.7.0 -f https://download.pytorch.org/whl/torch_stable.html\n",
    "\n",
    "# MacOS\n",
    "# !pip install numpy matplotlib pandas torch torchvision torchaudio"
   ]
  },
  {
   "cell_type": "code",
   "execution_count": null,
   "metadata": {
    "id": "rhvvQVAynedc"
   },
   "outputs": [],
   "source": [
    "import torch\n",
    "import jovian\n",
    "import torchvision\n",
    "import torch.nn as nn\n",
    "import pandas as pd\n",
    "import matplotlib.pyplot as plt\n",
    "import torch.nn.functional as F\n",
    "from torchvision.datasets.utils import download_url\n",
    "from torch.utils.data import DataLoader, TensorDataset, random_split"
   ]
  },
  {
   "cell_type": "code",
   "execution_count": null,
   "metadata": {
    "id": "lYCNxy5-nede"
   },
   "outputs": [],
   "source": [
    "project_name='02-insurance-linear-regression' # will be used by jovian.commit"
   ]
  },
  {
   "cell_type": "markdown",
   "metadata": {
    "id": "uvqKtSxqnedg"
   },
   "source": [
    "## Step 1: Download and explore the data\n",
    "\n",
    "Let us begin by downloading the data. We'll use the `download_url` function from PyTorch to get the data as a CSV (comma-separated values) file. "
   ]
  },
  {
   "cell_type": "code",
   "execution_count": null,
   "metadata": {
    "_cell_guid": "79c7e3d0-c299-4dcb-8224-4455121ee9b0",
    "_uuid": "d629ff2d2480ee46fbb7e2d37f6b5fab8052498a",
    "colab": {
     "base_uri": "https://localhost:8080/",
     "height": 86,
     "referenced_widgets": [
      "6fca92b3a83c443d8d78e032a338aedc",
      "c3695fc1198b412891c9fa14806239b0",
      "1916051fd40a48b99544de6ae92684fb",
      "53970cf38a574aeb8be6fafc2829c311",
      "78dc634a48e5480ab284d62cc2616496",
      "d0841731e5ea4c0daa11153980751794",
      "12d1688ed7d44f7097a98d4dddc09b17",
      "dba8755a964243b79c3d415869e39c37"
     ]
    },
    "id": "lZoaQ-_Qnedi",
    "outputId": "3d3b517b-0ce8-4974-ee8a-430ec95ded7f"
   },
   "outputs": [
    {
     "name": "stdout",
     "output_type": "stream",
     "text": [
      "Downloading https://hub.jovian.ml/wp-content/uploads/2020/05/insurance.csv to ./insurance.csv\n"
     ]
    },
    {
     "data": {
      "application/vnd.jupyter.widget-view+json": {
       "model_id": "6fca92b3a83c443d8d78e032a338aedc",
       "version_major": 2,
       "version_minor": 0
      },
      "text/plain": [
       "HBox(children=(FloatProgress(value=1.0, bar_style='info', max=1.0), HTML(value='')))"
      ]
     },
     "metadata": {
      "tags": []
     },
     "output_type": "display_data"
    }
   ],
   "source": [
    "DATASET_URL = \"https://hub.jovian.ml/wp-content/uploads/2020/05/insurance.csv\"\n",
    "DATA_FILENAME = \"insurance.csv\"\n",
    "download_url(DATASET_URL, '.')"
   ]
  },
  {
   "cell_type": "markdown",
   "metadata": {
    "id": "t2_-yH5qnedp"
   },
   "source": [
    "To load the dataset into memory, we'll use the `read_csv` function from the `pandas` library. The data will be loaded as a Pandas dataframe. See this short tutorial to learn more: https://data36.com/pandas-tutorial-1-basics-reading-data-files-dataframes-data-selection/"
   ]
  },
  {
   "cell_type": "code",
   "execution_count": null,
   "metadata": {
    "colab": {
     "base_uri": "https://localhost:8080/",
     "height": 204
    },
    "id": "Yd98VHG2nedq",
    "outputId": "ffd15894-a9e1-4df9-efb2-4cba2a1c1b8d"
   },
   "outputs": [
    {
     "data": {
      "text/html": [
       "<div>\n",
       "<style scoped>\n",
       "    .dataframe tbody tr th:only-of-type {\n",
       "        vertical-align: middle;\n",
       "    }\n",
       "\n",
       "    .dataframe tbody tr th {\n",
       "        vertical-align: top;\n",
       "    }\n",
       "\n",
       "    .dataframe thead th {\n",
       "        text-align: right;\n",
       "    }\n",
       "</style>\n",
       "<table border=\"1\" class=\"dataframe\">\n",
       "  <thead>\n",
       "    <tr style=\"text-align: right;\">\n",
       "      <th></th>\n",
       "      <th>age</th>\n",
       "      <th>sex</th>\n",
       "      <th>bmi</th>\n",
       "      <th>children</th>\n",
       "      <th>smoker</th>\n",
       "      <th>region</th>\n",
       "      <th>charges</th>\n",
       "    </tr>\n",
       "  </thead>\n",
       "  <tbody>\n",
       "    <tr>\n",
       "      <th>0</th>\n",
       "      <td>19</td>\n",
       "      <td>female</td>\n",
       "      <td>27.900</td>\n",
       "      <td>0</td>\n",
       "      <td>yes</td>\n",
       "      <td>southwest</td>\n",
       "      <td>16884.92400</td>\n",
       "    </tr>\n",
       "    <tr>\n",
       "      <th>1</th>\n",
       "      <td>18</td>\n",
       "      <td>male</td>\n",
       "      <td>33.770</td>\n",
       "      <td>1</td>\n",
       "      <td>no</td>\n",
       "      <td>southeast</td>\n",
       "      <td>1725.55230</td>\n",
       "    </tr>\n",
       "    <tr>\n",
       "      <th>2</th>\n",
       "      <td>28</td>\n",
       "      <td>male</td>\n",
       "      <td>33.000</td>\n",
       "      <td>3</td>\n",
       "      <td>no</td>\n",
       "      <td>southeast</td>\n",
       "      <td>4449.46200</td>\n",
       "    </tr>\n",
       "    <tr>\n",
       "      <th>3</th>\n",
       "      <td>33</td>\n",
       "      <td>male</td>\n",
       "      <td>22.705</td>\n",
       "      <td>0</td>\n",
       "      <td>no</td>\n",
       "      <td>northwest</td>\n",
       "      <td>21984.47061</td>\n",
       "    </tr>\n",
       "    <tr>\n",
       "      <th>4</th>\n",
       "      <td>32</td>\n",
       "      <td>male</td>\n",
       "      <td>28.880</td>\n",
       "      <td>0</td>\n",
       "      <td>no</td>\n",
       "      <td>northwest</td>\n",
       "      <td>3866.85520</td>\n",
       "    </tr>\n",
       "  </tbody>\n",
       "</table>\n",
       "</div>"
      ],
      "text/plain": [
       "   age     sex     bmi  children smoker     region      charges\n",
       "0   19  female  27.900         0    yes  southwest  16884.92400\n",
       "1   18    male  33.770         1     no  southeast   1725.55230\n",
       "2   28    male  33.000         3     no  southeast   4449.46200\n",
       "3   33    male  22.705         0     no  northwest  21984.47061\n",
       "4   32    male  28.880         0     no  northwest   3866.85520"
      ]
     },
     "execution_count": 154,
     "metadata": {
      "tags": []
     },
     "output_type": "execute_result"
    }
   ],
   "source": [
    "dataframe_raw = pd.read_csv(DATA_FILENAME)\n",
    "dataframe_raw.head()"
   ]
  },
  {
   "cell_type": "markdown",
   "metadata": {
    "id": "t3lE4xDZnedt"
   },
   "source": [
    "We're going to do a slight customization of the data, so that you every participant receives a slightly different version of the dataset. Fill in your name below as a string (enter at least 5 characters)"
   ]
  },
  {
   "cell_type": "code",
   "execution_count": null,
   "metadata": {
    "id": "lf8cIcRynedu"
   },
   "outputs": [],
   "source": [
    "your_name = 'Bunmi' # at least 5 characters"
   ]
  },
  {
   "cell_type": "markdown",
   "metadata": {
    "id": "XyNwGcM3nedw"
   },
   "source": [
    "The `customize_dataset` function will customize the dataset slightly using your name as a source of random numbers."
   ]
  },
  {
   "cell_type": "code",
   "execution_count": null,
   "metadata": {
    "id": "n9y-HVFqnedx"
   },
   "outputs": [],
   "source": [
    "def customize_dataset(dataframe_raw, rand_str):\n",
    "    dataframe = dataframe_raw.copy(deep=True)\n",
    "    # drop some rows\n",
    "    dataframe = dataframe.sample(int(0.95*len(dataframe)), random_state=int(ord(rand_str[0])))\n",
    "    # scale input\n",
    "    dataframe.bmi = dataframe.bmi * ord(rand_str[1])/100.\n",
    "    # scale target\n",
    "    dataframe.charges = dataframe.charges * ord(rand_str[2])/100.\n",
    "    # drop column\n",
    "    if ord(rand_str[3]) % 2 == 1:\n",
    "        dataframe = dataframe.drop(['region'], axis=1)\n",
    "    return dataframe"
   ]
  },
  {
   "cell_type": "code",
   "execution_count": null,
   "metadata": {
    "colab": {
     "base_uri": "https://localhost:8080/",
     "height": 204
    },
    "id": "2OopF01anedz",
    "outputId": "468cf467-558f-4aa7-c2e5-1e60c6d8b479"
   },
   "outputs": [
    {
     "data": {
      "text/html": [
       "<div>\n",
       "<style scoped>\n",
       "    .dataframe tbody tr th:only-of-type {\n",
       "        vertical-align: middle;\n",
       "    }\n",
       "\n",
       "    .dataframe tbody tr th {\n",
       "        vertical-align: top;\n",
       "    }\n",
       "\n",
       "    .dataframe thead th {\n",
       "        text-align: right;\n",
       "    }\n",
       "</style>\n",
       "<table border=\"1\" class=\"dataframe\">\n",
       "  <thead>\n",
       "    <tr style=\"text-align: right;\">\n",
       "      <th></th>\n",
       "      <th>age</th>\n",
       "      <th>sex</th>\n",
       "      <th>bmi</th>\n",
       "      <th>children</th>\n",
       "      <th>smoker</th>\n",
       "      <th>charges</th>\n",
       "    </tr>\n",
       "  </thead>\n",
       "  <tbody>\n",
       "    <tr>\n",
       "      <th>397</th>\n",
       "      <td>21</td>\n",
       "      <td>male</td>\n",
       "      <td>36.29340</td>\n",
       "      <td>0</td>\n",
       "      <td>no</td>\n",
       "      <td>18245.147481</td>\n",
       "    </tr>\n",
       "    <tr>\n",
       "      <th>211</th>\n",
       "      <td>40</td>\n",
       "      <td>male</td>\n",
       "      <td>36.12375</td>\n",
       "      <td>4</td>\n",
       "      <td>no</td>\n",
       "      <td>8978.987875</td>\n",
       "    </tr>\n",
       "    <tr>\n",
       "      <th>304</th>\n",
       "      <td>57</td>\n",
       "      <td>female</td>\n",
       "      <td>44.46000</td>\n",
       "      <td>2</td>\n",
       "      <td>no</td>\n",
       "      <td>13910.827700</td>\n",
       "    </tr>\n",
       "    <tr>\n",
       "      <th>349</th>\n",
       "      <td>19</td>\n",
       "      <td>male</td>\n",
       "      <td>32.56695</td>\n",
       "      <td>0</td>\n",
       "      <td>no</td>\n",
       "      <td>1799.307015</td>\n",
       "    </tr>\n",
       "    <tr>\n",
       "      <th>733</th>\n",
       "      <td>48</td>\n",
       "      <td>female</td>\n",
       "      <td>31.90005</td>\n",
       "      <td>1</td>\n",
       "      <td>no</td>\n",
       "      <td>10391.975385</td>\n",
       "    </tr>\n",
       "  </tbody>\n",
       "</table>\n",
       "</div>"
      ],
      "text/plain": [
       "     age     sex       bmi  children smoker       charges\n",
       "397   21    male  36.29340         0     no  18245.147481\n",
       "211   40    male  36.12375         4     no   8978.987875\n",
       "304   57  female  44.46000         2     no  13910.827700\n",
       "349   19    male  32.56695         0     no   1799.307015\n",
       "733   48  female  31.90005         1     no  10391.975385"
      ]
     },
     "execution_count": 157,
     "metadata": {
      "tags": []
     },
     "output_type": "execute_result"
    }
   ],
   "source": [
    "dataframe = customize_dataset(dataframe_raw, your_name)\n",
    "dataframe.head()"
   ]
  },
  {
   "cell_type": "code",
   "execution_count": null,
   "metadata": {
    "colab": {
     "base_uri": "https://localhost:8080/"
    },
    "id": "RANOqc4LpD-0",
    "outputId": "71d879de-1f8d-4e66-ec49-72a95225f0bc"
   },
   "outputs": [
    {
     "data": {
      "text/plain": [
       "(1271, 6)"
      ]
     },
     "execution_count": 158,
     "metadata": {
      "tags": []
     },
     "output_type": "execute_result"
    }
   ],
   "source": [
    "dataframe.shape"
   ]
  },
  {
   "cell_type": "markdown",
   "metadata": {
    "id": "TSLs3i0bned0"
   },
   "source": [
    "Let us answer some basic questions about the dataset. \n",
    "\n",
    "\n",
    "**Q: How many rows does the dataset have?**"
   ]
  },
  {
   "cell_type": "code",
   "execution_count": null,
   "metadata": {
    "colab": {
     "base_uri": "https://localhost:8080/"
    },
    "id": "9brlTKX4ned2",
    "outputId": "f79ee45f-7cd3-44f5-c4c8-c05009ab676b"
   },
   "outputs": [
    {
     "name": "stdout",
     "output_type": "stream",
     "text": [
      "1271\n"
     ]
    }
   ],
   "source": [
    "num_rows = dataframe.shape[0]\n",
    "print(num_rows)"
   ]
  },
  {
   "cell_type": "markdown",
   "metadata": {
    "id": "zZLSILqined3"
   },
   "source": [
    "**Q: How many columns doe the dataset have**"
   ]
  },
  {
   "cell_type": "code",
   "execution_count": null,
   "metadata": {
    "colab": {
     "base_uri": "https://localhost:8080/"
    },
    "id": "Xra1sfxkned4",
    "outputId": "09c95d88-8784-4569-e2a3-949c3832dd58"
   },
   "outputs": [
    {
     "name": "stdout",
     "output_type": "stream",
     "text": [
      "6\n"
     ]
    }
   ],
   "source": [
    "num_cols = dataframe.shape[1]\n",
    "print(num_cols)"
   ]
  },
  {
   "cell_type": "code",
   "execution_count": null,
   "metadata": {
    "colab": {
     "base_uri": "https://localhost:8080/"
    },
    "id": "UsqxbkzlpPqE",
    "outputId": "03f63688-b413-4843-f93b-7ef6c604e80b"
   },
   "outputs": [
    {
     "data": {
      "text/plain": [
       "Index(['age', 'sex', 'bmi', 'children', 'smoker', 'charges'], dtype='object')"
      ]
     },
     "execution_count": 161,
     "metadata": {
      "tags": []
     },
     "output_type": "execute_result"
    }
   ],
   "source": [
    "dataframe.columns"
   ]
  },
  {
   "cell_type": "markdown",
   "metadata": {
    "id": "5Lj-1BEhned5"
   },
   "source": [
    "**Q: What are the column titles of the input variables?**"
   ]
  },
  {
   "cell_type": "code",
   "execution_count": null,
   "metadata": {
    "colab": {
     "base_uri": "https://localhost:8080/"
    },
    "id": "gf9WlKz2ned6",
    "outputId": "265c31e1-da18-4f5e-becd-8f2deae22c60"
   },
   "outputs": [
    {
     "name": "stdout",
     "output_type": "stream",
     "text": [
      "Input columns are : ['age', 'sex', 'bmi', 'children', 'smoker', 'charges']\n"
     ]
    }
   ],
   "source": [
    "input_cols = []\n",
    "for i in dataframe.columns:\n",
    "  input_cols.append(i)\n",
    "print('Input columns are :', input_cols)\n"
   ]
  },
  {
   "cell_type": "code",
   "execution_count": null,
   "metadata": {
    "colab": {
     "base_uri": "https://localhost:8080/"
    },
    "id": "M8MjLcQSpyPz",
    "outputId": "bac0f48e-df0a-489f-ac60-f9128c363c05"
   },
   "outputs": [
    {
     "data": {
      "text/plain": [
       "Index(['sex', 'smoker'], dtype='object')"
      ]
     },
     "execution_count": 163,
     "metadata": {
      "tags": []
     },
     "output_type": "execute_result"
    }
   ],
   "source": [
    "dataframe.select_dtypes(include=object).columns"
   ]
  },
  {
   "cell_type": "markdown",
   "metadata": {
    "id": "PSy-WO1qned7"
   },
   "source": [
    "**Q: Which of the input columns are non-numeric or categorial variables ?**\n",
    "\n",
    "Hint: `sex` is one of them. List the columns that are not numbers."
   ]
  },
  {
   "cell_type": "code",
   "execution_count": null,
   "metadata": {
    "colab": {
     "base_uri": "https://localhost:8080/"
    },
    "id": "sIQBQdONned8",
    "outputId": "199f95c8-975c-4bca-a3a0-93a0142ba0ea"
   },
   "outputs": [
    {
     "name": "stdout",
     "output_type": "stream",
     "text": [
      "['sex', 'smoker']\n"
     ]
    }
   ],
   "source": [
    "categorical_cols = []\n",
    "for i in dataframe.select_dtypes(include=object).columns:\n",
    "  categorical_cols.append(i)\n",
    "print(categorical_cols)  "
   ]
  },
  {
   "cell_type": "code",
   "execution_count": null,
   "metadata": {
    "id": "Xl4BnZxSqRn7"
   },
   "outputs": [],
   "source": []
  },
  {
   "cell_type": "markdown",
   "metadata": {
    "id": "xkroR9I5ned9"
   },
   "source": [
    "**Q: What are the column titles of output/target variable(s)?**"
   ]
  },
  {
   "cell_type": "code",
   "execution_count": null,
   "metadata": {
    "id": "dVPJfcGrned9"
   },
   "outputs": [],
   "source": [
    "output_cols = ['charges']"
   ]
  },
  {
   "cell_type": "markdown",
   "metadata": {
    "id": "wvp2rRY9ned-"
   },
   "source": [
    "**Q: (Optional) What is the minimum, maximum and average value of the `charges` column? Can you show the distribution of values in a graph?**\n",
    "Use this data visualization cheatsheet for referece: https://jovian.ml/aakashns/dataviz-cheatsheet"
   ]
  },
  {
   "cell_type": "code",
   "execution_count": null,
   "metadata": {
    "colab": {
     "base_uri": "https://localhost:8080/",
     "height": 911
    },
    "id": "03ZGSdHEneeA",
    "outputId": "a5ee878d-bf0d-4ca8-b846-cc59c53b50d5"
   },
   "outputs": [
    {
     "name": "stdout",
     "output_type": "stream",
     "text": [
      "Maximum value in column charges 70147.470811\n",
      "Minimum value in column charges 1234.06129\n",
      "Mean value in column charges 14574.805634811088\n"
     ]
    },
    {
     "data": {
      "text/plain": [
       "(array([65., 65., 54., 48., 41., 56., 52., 35., 46., 46., 34., 54., 34.,\n",
       "        44., 32., 38., 45., 40., 36., 27., 22., 19.,  7.,  8.,  8.,  9.,\n",
       "        11.,  8., 15., 13., 10.,  7., 12.,  9.,  4.,  8.,  7., 11.,  5.,\n",
       "         7.,  3.,  8.,  3.,  5.,  4.,  2.,  5.,  1.,  1.,  1.,  3.,  2.,\n",
       "         7.,  8.,  3.,  7.,  4.,  8.,  6.,  7.,  6.,  8.,  6.,  6.,  2.,\n",
       "         8.,  5.,  1.,  7.,  5.,  1.,  7.,  4.,  7.,  3.,  5.,  3.,  1.,\n",
       "         0.,  1.,  0.,  0.,  0.,  0.,  0.,  0.,  1.,  0.,  0.,  0.,  0.,\n",
       "         1.,  0.,  0.,  1.,  0.,  0.,  0.,  1.,  1.]),\n",
       " array([ 1234.06129   ,  1923.19538521,  2612.32948042,  3301.46357563,\n",
       "         3990.59767084,  4679.73176605,  5368.86586126,  6057.99995647,\n",
       "         6747.13405168,  7436.26814689,  8125.4022421 ,  8814.53633731,\n",
       "         9503.67043252, 10192.80452773, 10881.93862294, 11571.07271815,\n",
       "        12260.20681336, 12949.34090857, 13638.47500378, 14327.60909899,\n",
       "        15016.7431942 , 15705.87728941, 16395.01138462, 17084.14547983,\n",
       "        17773.27957504, 18462.41367025, 19151.54776546, 19840.68186067,\n",
       "        20529.81595588, 21218.95005109, 21908.0841463 , 22597.21824151,\n",
       "        23286.35233672, 23975.48643193, 24664.62052714, 25353.75462235,\n",
       "        26042.88871756, 26732.02281277, 27421.15690798, 28110.29100319,\n",
       "        28799.4250984 , 29488.55919361, 30177.69328882, 30866.82738403,\n",
       "        31555.96147924, 32245.09557445, 32934.22966966, 33623.36376487,\n",
       "        34312.49786008, 35001.63195529, 35690.7660505 , 36379.90014571,\n",
       "        37069.03424092, 37758.16833613, 38447.30243134, 39136.43652655,\n",
       "        39825.57062176, 40514.70471697, 41203.83881218, 41892.97290739,\n",
       "        42582.1070026 , 43271.24109781, 43960.37519302, 44649.50928823,\n",
       "        45338.64338344, 46027.77747865, 46716.91157386, 47406.04566907,\n",
       "        48095.17976428, 48784.31385949, 49473.4479547 , 50162.58204991,\n",
       "        50851.71614512, 51540.85024033, 52229.98433554, 52919.11843075,\n",
       "        53608.25252596, 54297.38662117, 54986.52071638, 55675.65481159,\n",
       "        56364.7889068 , 57053.92300201, 57743.05709722, 58432.19119243,\n",
       "        59121.32528764, 59810.45938285, 60499.59347806, 61188.72757327,\n",
       "        61877.86166848, 62566.99576369, 63256.1298589 , 63945.26395411,\n",
       "        64634.39804932, 65323.53214453, 66012.66623974, 66701.80033495,\n",
       "        67390.93443016, 68080.06852537, 68769.20262058, 69458.33671579,\n",
       "        70147.470811  ]),\n",
       " <a list of 100 Patch objects>)"
      ]
     },
     "execution_count": 166,
     "metadata": {
      "tags": []
     },
     "output_type": "execute_result"
    },
    {
     "data": {
      "image/png": "[encoded data removed]",
      "text/plain": [
       "<Figure size 432x288 with 1 Axes>"
      ]
     },
     "metadata": {
      "needs_background": "light",
      "tags": []
     },
     "output_type": "display_data"
    }
   ],
   "source": [
    "# Write your answer here\n",
    "print('Maximum value in column charges', dataframe.charges.max())\n",
    "print('Minimum value in column charges', dataframe.charges.min())\n",
    "print('Mean value in column charges', dataframe.charges.mean())\n",
    "\n",
    "%matplotlib inline\n",
    "plt.hist(dataframe.charges, bins=100)"
   ]
  },
  {
   "cell_type": "markdown",
   "metadata": {
    "id": "dWk38Kw_neeA"
   },
   "source": [
    "Remember to commit your notebook to Jovian after every step, so that you don't lose your work."
   ]
  },
  {
   "cell_type": "code",
   "execution_count": null,
   "metadata": {
    "id": "lm-YJrNuneeB"
   },
   "outputs": [],
   "source": [
    "!pip install jovian --upgrade -q"
   ]
  },
  {
   "cell_type": "code",
   "execution_count": null,
   "metadata": {
    "id": "7WU3HtZfneeC"
   },
   "outputs": [],
   "source": [
    "import jovian"
   ]
  },
  {
   "cell_type": "code",
   "execution_count": null,
   "metadata": {
    "colab": {
     "base_uri": "https://localhost:8080/",
     "height": 140
    },
    "id": "vd6PmUdBneeD",
    "outputId": "a56a9e7e-44ce-40fa-eaeb-8de2939802b2"
   },
   "outputs": [
    {
     "name": "stdout",
     "output_type": "stream",
     "text": [
      "[jovian] Detected Colab notebook...\u001b[0m\n",
      "[jovian] Uploading colab notebook to Jovian...\u001b[0m\n",
      "[jovian] Capturing environment..\u001b[0m\n",
      "[jovian] Attaching records (metrics, hyperparameters, dataset etc.)\u001b[0m\n",
      "[jovian] Committed successfully! https://jovian.ai/akinremibunmi111/02-insurance-linear-regression\u001b[0m\n"
     ]
    },
    {
     "data": {
      "application/vnd.google.colaboratory.intrinsic+json": {
       "type": "string"
      },
      "text/plain": [
       "'https://jovian.ai/akinremibunmi111/02-insurance-linear-regression'"
      ]
     },
     "execution_count": 170,
     "metadata": {
      "tags": []
     },
     "output_type": "execute_result"
    }
   ],
   "source": [
    "jovian.commit(project=project_name)"
   ]
  },
  {
   "cell_type": "markdown",
   "metadata": {
    "id": "3UBNtooRneeG"
   },
   "source": [
    "## Step 2: Prepare the dataset for training\n",
    "\n",
    "We need to convert the data from the Pandas dataframe into a PyTorch tensors for training. To do this, the first step is to convert it numpy arrays. If you've filled out `input_cols`, `categorial_cols` and `output_cols` correctly, this following function will perform the conversion to numpy arrays."
   ]
  },
  {
   "cell_type": "code",
   "execution_count": null,
   "metadata": {
    "id": "et_Lk6QxneeH"
   },
   "outputs": [],
   "source": [
    "def dataframe_to_arrays(dataframe):\n",
    "    # Make a copy of the original dataframe\n",
    "    dataframe1 = dataframe.copy(deep=True)\n",
    "    # Convert non-numeric categorical columns to numbers\n",
    "    for col in categorical_cols:\n",
    "        dataframe1[col] = dataframe1[col].astype('category').cat.codes\n",
    "    # Extract input & outupts as numpy arrays\n",
    "    inputs_array = dataframe1[input_cols].to_numpy()\n",
    "    targets_array = dataframe1[output_cols].to_numpy()\n",
    "    return inputs_array, targets_array"
   ]
  },
  {
   "cell_type": "markdown",
   "metadata": {
    "id": "vW7FDyNIneeP"
   },
   "source": [
    "Read through the [Pandas documentation](https://pandas.pydata.org/pandas-docs/stable/user_guide/categorical.html) to understand how we're converting categorical variables into numbers."
   ]
  },
  {
   "cell_type": "code",
   "execution_count": null,
   "metadata": {
    "colab": {
     "base_uri": "https://localhost:8080/"
    },
    "id": "xp5--t_YneeQ",
    "outputId": "097a7056-4dba-4791-b4eb-a24d96d23784"
   },
   "outputs": [
    {
     "data": {
      "text/plain": [
       "(array([[2.10000000e+01, 1.00000000e+00, 3.62934000e+01, 0.00000000e+00,\n",
       "         0.00000000e+00, 1.82451475e+04],\n",
       "        [4.00000000e+01, 1.00000000e+00, 3.61237500e+01, 4.00000000e+00,\n",
       "         0.00000000e+00, 8.97898788e+03],\n",
       "        [5.70000000e+01, 0.00000000e+00, 4.44600000e+01, 2.00000000e+00,\n",
       "         0.00000000e+00, 1.39108277e+04],\n",
       "        ...,\n",
       "        [1.90000000e+01, 0.00000000e+00, 3.01216500e+01, 1.00000000e+00,\n",
       "         0.00000000e+00, 2.98191141e+03],\n",
       "        [6.20000000e+01, 0.00000000e+00, 2.92500000e+01, 0.00000000e+00,\n",
       "         0.00000000e+00, 1.47962342e+04],\n",
       "        [4.60000000e+01, 1.00000000e+00, 5.13513000e+01, 3.00000000e+00,\n",
       "         0.00000000e+00, 9.83852661e+03]]), array([[18245.147481],\n",
       "        [ 8978.987875],\n",
       "        [13910.8277  ],\n",
       "        ...,\n",
       "        [ 2981.911405],\n",
       "        [14796.2342  ],\n",
       "        [ 9838.52661 ]]))"
      ]
     },
     "execution_count": 172,
     "metadata": {
      "tags": []
     },
     "output_type": "execute_result"
    }
   ],
   "source": [
    "inputs_array, targets_array = dataframe_to_arrays(dataframe)\n",
    "inputs_array, targets_array"
   ]
  },
  {
   "cell_type": "markdown",
   "metadata": {
    "id": "KXHkLxxineeQ"
   },
   "source": [
    "**Q: Convert the numpy arrays `inputs_array` and `targets_array` into PyTorch tensors. Make sure that the data type is `torch.float32`.**"
   ]
  },
  {
   "cell_type": "code",
   "execution_count": null,
   "metadata": {
    "id": "Mu1adhWdneeS"
   },
   "outputs": [],
   "source": [
    "inputs = torch.tensor(inputs_array, dtype=torch.float32)\n",
    "targets = torch.tensor(targets_array, dtype=torch.float32)\n"
   ]
  },
  {
   "cell_type": "code",
   "execution_count": null,
   "metadata": {
    "colab": {
     "base_uri": "https://localhost:8080/"
    },
    "id": "9msSzaxdneeT",
    "outputId": "e072bbe7-3ad3-4102-d75a-04b3dca8fe69"
   },
   "outputs": [
    {
     "data": {
      "text/plain": [
       "(torch.float32, torch.float32)"
      ]
     },
     "execution_count": 174,
     "metadata": {
      "tags": []
     },
     "output_type": "execute_result"
    }
   ],
   "source": [
    "inputs.dtype, targets.dtype"
   ]
  },
  {
   "cell_type": "markdown",
   "metadata": {
    "id": "rACO-ap1neeT"
   },
   "source": [
    "Next, we need to create PyTorch datasets & data loaders for training & validation. We'll start by creating a `TensorDataset`."
   ]
  },
  {
   "cell_type": "code",
   "execution_count": null,
   "metadata": {
    "id": "HcxgUtWLneeW"
   },
   "outputs": [],
   "source": [
    "dataset = TensorDataset(inputs, targets)"
   ]
  },
  {
   "cell_type": "markdown",
   "metadata": {
    "id": "CZcEn_NyneeX"
   },
   "source": [
    "**Q: Pick a number between `0.1` and `0.2` to determine the fraction of data that will be used for creating the validation set. Then use `random_split` to create training & validation datasets.**"
   ]
  },
  {
   "cell_type": "code",
   "execution_count": null,
   "metadata": {
    "id": "RDGEzUNjneeY"
   },
   "outputs": [],
   "source": [
    "val_percent = 0.2 # between 0.1 and 0.2\n",
    "val_size = int(num_rows * val_percent)\n",
    "train_size = num_rows - val_size\n",
    "\n",
    "from torch.utils.data import random_split\n",
    "train_ds, val_ds = random_split(dataset, [train_size, val_size]) # Use the random_split function to split dataset into 2 parts of the desired length"
   ]
  },
  {
   "cell_type": "markdown",
   "metadata": {
    "id": "sW_45jQpneeZ"
   },
   "source": [
    "Finally, we can create data loaders for training & validation.\n",
    "\n",
    "**Q: Pick a batch size for the data loader.**"
   ]
  },
  {
   "cell_type": "code",
   "execution_count": null,
   "metadata": {
    "id": "PUNlzbcMneea"
   },
   "outputs": [],
   "source": [
    "batch_size = 128"
   ]
  },
  {
   "cell_type": "code",
   "execution_count": null,
   "metadata": {
    "id": "bKrYgKOqneeb"
   },
   "outputs": [],
   "source": [
    "train_loader = DataLoader(train_ds, batch_size, shuffle=True)\n",
    "val_loader = DataLoader(val_ds, batch_size)"
   ]
  },
  {
   "cell_type": "markdown",
   "metadata": {
    "id": "60CV99SMneeb"
   },
   "source": [
    "Let's look at a batch of data to verify everything is working fine so far."
   ]
  },
  {
   "cell_type": "code",
   "execution_count": null,
   "metadata": {
    "colab": {
     "base_uri": "https://localhost:8080/"
    },
    "id": "zilmoeH6neec",
    "outputId": "208b0e74-4db0-4b94-b02c-82e69ebb2b3a"
   },
   "outputs": [
    {
     "name": "stdout",
     "output_type": "stream",
     "text": [
      "inputs: tensor([[1.8000e+01, 1.0000e+00, 2.7284e+01, 1.0000e+00, 0.0000e+00, 1.8821e+03],\n",
      "        [4.0000e+01, 1.0000e+00, 3.0789e+01, 1.0000e+00, 0.0000e+00, 7.0283e+03],\n",
      "        [3.2000e+01, 0.0000e+00, 3.4620e+01, 1.0000e+00, 0.0000e+00, 5.0191e+03],\n",
      "        [5.5000e+01, 1.0000e+00, 3.8347e+01, 0.0000e+00, 0.0000e+00, 1.1662e+04],\n",
      "        [4.2000e+01, 1.0000e+00, 2.8788e+01, 2.0000e+00, 1.0000e+00, 2.3385e+04],\n",
      "        [3.2000e+01, 0.0000e+00, 3.4790e+01, 0.0000e+00, 0.0000e+00, 4.7927e+03],\n",
      "        [5.2000e+01, 0.0000e+00, 2.7121e+01, 0.0000e+00, 0.0000e+00, 1.1218e+04],\n",
      "        [1.8000e+01, 0.0000e+00, 3.5457e+01, 0.0000e+00, 0.0000e+00, 2.4241e+03],\n",
      "        [3.1000e+01, 1.0000e+00, 3.6346e+01, 3.0000e+00, 0.0000e+00, 5.9675e+03],\n",
      "        [1.9000e+01, 0.0000e+00, 2.6343e+01, 0.0000e+00, 0.0000e+00, 2.3291e+03],\n",
      "        [2.5000e+01, 0.0000e+00, 4.9292e+01, 1.0000e+00, 0.0000e+00, 3.5623e+03],\n",
      "        [2.3000e+01, 0.0000e+00, 2.8343e+01, 2.0000e+00, 0.0000e+00, 2.4635e+04],\n",
      "        [4.3000e+01, 1.0000e+00, 2.3552e+01, 2.0000e+00, 1.0000e+00, 2.0645e+04],\n",
      "        [3.4000e+01, 1.0000e+00, 4.9292e+01, 2.0000e+00, 0.0000e+00, 5.6366e+03],\n",
      "        [2.3000e+01, 0.0000e+00, 3.9078e+01, 0.0000e+00, 0.0000e+00, 1.1876e+04],\n",
      "        [3.5000e+01, 0.0000e+00, 3.9903e+01, 3.0000e+00, 1.0000e+00, 4.3982e+04],\n",
      "        [2.1000e+01, 1.0000e+00, 3.0069e+01, 4.0000e+00, 1.0000e+00, 1.9736e+04],\n",
      "        [3.6000e+01, 1.0000e+00, 4.1184e+01, 1.0000e+00, 1.0000e+00, 4.2580e+04],\n",
      "        [1.8000e+01, 1.0000e+00, 2.5231e+01, 0.0000e+00, 1.0000e+00, 1.5123e+04],\n",
      "        [4.1000e+01, 0.0000e+00, 3.2819e+01, 1.0000e+00, 0.0000e+00, 7.4472e+03],\n",
      "        [2.6000e+01, 0.0000e+00, 2.3166e+01, 1.0000e+00, 0.0000e+00, 3.7168e+03],\n",
      "        [5.0000e+01, 0.0000e+00, 3.5235e+01, 1.0000e+00, 0.0000e+00, 1.0901e+04],\n",
      "        [6.3000e+01, 0.0000e+00, 4.3114e+01, 0.0000e+00, 0.0000e+00, 1.5277e+04],\n",
      "        [2.7000e+01, 0.0000e+00, 4.0716e+01, 1.0000e+00, 0.0000e+00, 3.9358e+03],\n",
      "        [2.7000e+01, 0.0000e+00, 3.5568e+01, 3.0000e+00, 0.0000e+00, 2.0685e+04],\n",
      "        [4.1000e+01, 0.0000e+00, 3.8569e+01, 0.0000e+00, 0.0000e+00, 7.2281e+03],\n",
      "        [3.0000e+01, 0.0000e+00, 3.6153e+01, 3.0000e+00, 0.0000e+00, 5.8582e+03],\n",
      "        [4.8000e+01, 1.0000e+00, 3.7791e+01, 1.0000e+00, 0.0000e+00, 9.6418e+03],\n",
      "        [2.8000e+01, 1.0000e+00, 3.6124e+01, 0.0000e+00, 0.0000e+00, 3.3688e+03],\n",
      "        [5.4000e+01, 0.0000e+00, 3.6551e+01, 0.0000e+00, 0.0000e+00, 1.1373e+04],\n",
      "        [1.9000e+01, 0.0000e+00, 2.8788e+01, 1.0000e+00, 0.0000e+00, 2.9802e+03],\n",
      "        [1.9000e+01, 1.0000e+00, 2.8782e+01, 1.0000e+00, 0.0000e+00, 2.0210e+03],\n",
      "        [5.4000e+01, 1.0000e+00, 3.5123e+01, 0.0000e+00, 0.0000e+00, 2.6924e+04],\n",
      "        [5.8000e+01, 0.0000e+00, 3.7235e+01, 2.0000e+00, 0.0000e+00, 1.4968e+04],\n",
      "        [2.2000e+01, 1.0000e+00, 3.3790e+01, 0.0000e+00, 0.0000e+00, 2.4759e+03],\n",
      "        [1.9000e+01, 0.0000e+00, 3.8493e+01, 0.0000e+00, 0.0000e+00, 1.9237e+03],\n",
      "        [2.7000e+01, 1.0000e+00, 3.8791e+01, 2.0000e+00, 0.0000e+00, 4.4646e+03],\n",
      "        [1.8000e+01, 0.0000e+00, 2.8185e+01, 1.0000e+00, 0.0000e+00, 2.4212e+03],\n",
      "        [3.0000e+01, 0.0000e+00, 2.3341e+01, 3.0000e+00, 0.0000e+00, 6.2628e+03],\n",
      "        [2.2000e+01, 1.0000e+00, 4.6215e+01, 0.0000e+00, 0.0000e+00, 1.8509e+03],\n",
      "        [3.2000e+01, 0.0000e+00, 3.8791e+01, 3.0000e+00, 0.0000e+00, 6.7417e+03],\n",
      "        [6.2000e+01, 1.0000e+00, 3.6808e+01, 1.0000e+00, 0.0000e+00, 2.9701e+04],\n",
      "        [5.9000e+01, 1.0000e+00, 3.0888e+01, 0.0000e+00, 0.0000e+00, 1.2918e+04],\n",
      "        [3.8000e+01, 1.0000e+00, 3.2789e+01, 1.0000e+00, 0.0000e+00, 6.6738e+03],\n",
      "        [4.9000e+01, 0.0000e+00, 2.7899e+01, 3.0000e+00, 1.0000e+00, 2.6518e+04],\n",
      "        [2.4000e+01, 1.0000e+00, 4.1956e+01, 0.0000e+00, 0.0000e+00, 2.1856e+03],\n",
      "        [5.7000e+01, 1.0000e+00, 2.1452e+01, 0.0000e+00, 0.0000e+00, 1.2688e+04],\n",
      "        [5.0000e+01, 0.0000e+00, 3.2292e+01, 1.0000e+00, 1.0000e+00, 2.6972e+04],\n",
      "        [3.2000e+01, 1.0000e+00, 3.5135e+01, 1.0000e+00, 0.0000e+00, 4.4819e+03],\n",
      "        [2.1000e+01, 0.0000e+00, 4.0798e+01, 0.0000e+00, 0.0000e+00, 2.2226e+03],\n",
      "        [4.7000e+01, 0.0000e+00, 2.7612e+01, 1.0000e+00, 0.0000e+00, 9.3936e+03],\n",
      "        [4.5000e+01, 0.0000e+00, 3.2345e+01, 1.0000e+00, 0.0000e+00, 3.1174e+04],\n",
      "        [3.3000e+01, 0.0000e+00, 2.2341e+01, 2.0000e+00, 1.0000e+00, 1.8454e+04],\n",
      "        [3.2000e+01, 0.0000e+00, 2.0785e+01, 2.0000e+00, 1.0000e+00, 3.6008e+04],\n",
      "        [5.3000e+01, 0.0000e+00, 4.3793e+01, 1.0000e+00, 0.0000e+00, 1.2056e+04],\n",
      "        [4.6000e+01, 0.0000e+00, 5.6242e+01, 2.0000e+00, 0.0000e+00, 1.0376e+04],\n",
      "        [3.2000e+01, 1.0000e+00, 5.4440e+01, 2.0000e+00, 0.0000e+00, 5.1550e+03],\n",
      "        [5.7000e+01, 1.0000e+00, 3.9792e+01, 0.0000e+00, 0.0000e+00, 1.2492e+04],\n",
      "        [4.0000e+01, 1.0000e+00, 3.7791e+01, 2.0000e+00, 0.0000e+00, 7.6854e+03],\n",
      "        [4.4000e+01, 0.0000e+00, 3.2345e+01, 0.0000e+00, 0.0000e+00, 8.1633e+03],\n",
      "        [4.6000e+01, 1.0000e+00, 3.5679e+01, 3.0000e+00, 1.0000e+00, 4.4793e+04],\n",
      "        [2.8000e+01, 0.0000e+00, 2.7899e+01, 2.0000e+00, 0.0000e+00, 5.1917e+03],\n",
      "        [3.6000e+01, 0.0000e+00, 3.0233e+01, 0.0000e+00, 0.0000e+00, 5.7930e+03],\n",
      "        [6.3000e+01, 1.0000e+00, 2.5342e+01, 1.0000e+00, 0.0000e+00, 1.5785e+04],\n",
      "        [4.4000e+01, 1.0000e+00, 2.5565e+01, 3.0000e+00, 0.0000e+00, 9.7803e+03],\n",
      "        [4.2000e+01, 0.0000e+00, 3.3930e+01, 1.0000e+00, 0.0000e+00, 7.7557e+03],\n",
      "        [2.2000e+01, 1.0000e+00, 3.3123e+01, 1.0000e+00, 0.0000e+00, 2.9029e+03],\n",
      "        [4.4000e+01, 0.0000e+00, 4.3237e+01, 1.0000e+00, 0.0000e+00, 8.8254e+03],\n",
      "        [1.9000e+01, 0.0000e+00, 2.5389e+01, 0.0000e+00, 1.0000e+00, 1.5229e+04],\n",
      "        [6.1000e+01, 0.0000e+00, 4.2015e+01, 0.0000e+00, 0.0000e+00, 1.4999e+04],\n",
      "        [5.3000e+01, 0.0000e+00, 3.1122e+01, 0.0000e+00, 0.0000e+00, 1.1391e+04],\n",
      "        [3.6000e+01, 1.0000e+00, 4.0283e+01, 2.0000e+00, 0.0000e+00, 6.1427e+03],\n",
      "        [5.1000e+01, 1.0000e+00, 3.5135e+01, 1.0000e+00, 0.0000e+00, 1.0316e+04],\n",
      "        [3.0000e+01, 1.0000e+00, 4.3793e+01, 3.0000e+00, 0.0000e+00, 5.9716e+03],\n",
      "        [2.7000e+01, 0.0000e+00, 3.6568e+01, 1.0000e+00, 0.0000e+00, 4.3517e+03],\n",
      "        [2.5000e+01, 1.0000e+00, 3.9382e+01, 4.0000e+00, 0.0000e+00, 4.9551e+03],\n",
      "        [3.3000e+01, 0.0000e+00, 4.2459e+01, 3.0000e+00, 0.0000e+00, 7.2069e+03],\n",
      "        [2.3000e+01, 0.0000e+00, 3.6738e+01, 0.0000e+00, 1.0000e+00, 3.7583e+04],\n",
      "        [5.0000e+01, 1.0000e+00, 3.7680e+01, 0.0000e+00, 0.0000e+00, 9.7188e+03],\n",
      "        [5.3000e+01, 1.0000e+00, 2.8454e+01, 0.0000e+00, 0.0000e+00, 1.0850e+04],\n",
      "        [3.1000e+01, 1.0000e+00, 3.0303e+01, 3.0000e+00, 1.0000e+00, 2.1120e+04],\n",
      "        [6.3000e+01, 0.0000e+00, 4.4109e+01, 0.0000e+00, 1.0000e+00, 5.3707e+04],\n",
      "        [3.1000e+01, 1.0000e+00, 3.3456e+01, 1.0000e+00, 0.0000e+00, 4.6679e+03],\n",
      "        [1.9000e+01, 0.0000e+00, 3.4866e+01, 0.0000e+00, 0.0000e+00, 1.9189e+03],\n",
      "        [1.8000e+01, 0.0000e+00, 4.6589e+01, 0.0000e+00, 0.0000e+00, 1.7974e+03],\n",
      "        [5.8000e+01, 1.0000e+00, 4.4460e+01, 0.0000e+00, 0.0000e+00, 1.2503e+04],\n",
      "        [2.8000e+01, 0.0000e+00, 3.0344e+01, 1.0000e+00, 0.0000e+00, 4.5470e+03],\n",
      "        [1.9000e+01, 0.0000e+00, 3.3462e+01, 5.0000e+00, 0.0000e+00, 5.1566e+03],\n",
      "        [5.4000e+01, 1.0000e+00, 2.4582e+01, 2.0000e+00, 0.0000e+00, 1.2115e+04],\n",
      "        [1.9000e+01, 1.0000e+00, 3.2567e+01, 0.0000e+00, 0.0000e+00, 1.7993e+03],\n",
      "        [4.8000e+01, 1.0000e+00, 4.3629e+01, 2.0000e+00, 0.0000e+00, 9.8760e+03],\n",
      "        [4.1000e+01, 0.0000e+00, 3.3123e+01, 1.0000e+00, 0.0000e+00, 7.8689e+03],\n",
      "        [3.6000e+01, 0.0000e+00, 3.0303e+01, 1.0000e+00, 0.0000e+00, 6.0197e+03],\n",
      "        [3.4000e+01, 1.0000e+00, 3.8376e+01, 1.0000e+00, 0.0000e+00, 1.5794e+04],\n",
      "        [2.6000e+01, 0.0000e+00, 2.0118e+01, 2.0000e+00, 1.0000e+00, 1.5901e+04],\n",
      "        [5.2000e+01, 0.0000e+00, 2.9601e+01, 2.0000e+00, 1.0000e+00, 2.7134e+04],\n",
      "        [4.8000e+01, 1.0000e+00, 4.6975e+01, 0.0000e+00, 0.0000e+00, 8.5846e+03],\n",
      "        [5.7000e+01, 1.0000e+00, 4.9292e+01, 1.0000e+00, 1.0000e+00, 5.3543e+04],\n",
      "        [2.0000e+01, 1.0000e+00, 3.2678e+01, 0.0000e+00, 0.0000e+00, 2.1637e+03],\n",
      "        [3.8000e+01, 0.0000e+00, 4.7461e+01, 1.0000e+00, 0.0000e+00, 7.0109e+03],\n",
      "        [1.9000e+01, 1.0000e+00, 3.9897e+01, 0.0000e+00, 0.0000e+00, 1.3876e+03],\n",
      "        [5.8000e+01, 1.0000e+00, 3.5457e+01, 0.0000e+00, 0.0000e+00, 1.3132e+04],\n",
      "        [1.9000e+01, 0.0000e+00, 3.2643e+01, 0.0000e+00, 1.0000e+00, 1.8573e+04],\n",
      "        [3.0000e+01, 0.0000e+00, 2.5676e+01, 1.0000e+00, 0.0000e+00, 5.1900e+03],\n",
      "        [3.5000e+01, 0.0000e+00, 3.2789e+01, 0.0000e+00, 1.0000e+00, 2.2258e+04],\n",
      "        [6.0000e+01, 0.0000e+00, 3.7966e+01, 0.0000e+00, 1.0000e+00, 4.9510e+04],\n",
      "        [3.3000e+01, 1.0000e+00, 2.6565e+01, 0.0000e+00, 0.0000e+00, 2.4183e+04],\n",
      "        [3.8000e+01, 1.0000e+00, 2.2581e+01, 0.0000e+00, 1.0000e+00, 1.7403e+04],\n",
      "        [5.4000e+01, 0.0000e+00, 2.5120e+01, 3.0000e+00, 0.0000e+00, 1.3723e+04],\n",
      "        [6.4000e+01, 1.0000e+00, 4.3243e+01, 2.0000e+00, 1.0000e+00, 5.4535e+04],\n",
      "        [4.3000e+01, 1.0000e+00, 4.1313e+01, 2.0000e+00, 0.0000e+00, 2.0687e+04],\n",
      "        [3.8000e+01, 1.0000e+00, 3.4234e+01, 2.0000e+00, 0.0000e+00, 7.1036e+03],\n",
      "        [5.3000e+01, 0.0000e+00, 2.6770e+01, 1.0000e+00, 1.0000e+00, 2.5569e+04],\n",
      "        [4.9000e+01, 0.0000e+00, 3.1789e+01, 0.0000e+00, 0.0000e+00, 9.4615e+03],\n",
      "        [4.3000e+01, 0.0000e+00, 3.5901e+01, 2.0000e+00, 0.0000e+00, 9.1419e+03],\n",
      "        [3.0000e+01, 0.0000e+00, 5.0450e+01, 2.0000e+00, 0.0000e+00, 5.2290e+03],\n",
      "        [4.8000e+01, 0.0000e+00, 3.7791e+01, 2.0000e+00, 0.0000e+00, 1.1048e+04],\n",
      "        [2.0000e+01, 0.0000e+00, 2.8571e+01, 0.0000e+00, 1.0000e+00, 2.8738e+04],\n",
      "        [6.3000e+01, 0.0000e+00, 3.0677e+01, 0.0000e+00, 0.0000e+00, 1.5682e+04],\n",
      "        [6.4000e+01, 1.0000e+00, 3.9640e+01, 0.0000e+00, 1.0000e+00, 5.1578e+04],\n",
      "        [3.5000e+01, 0.0000e+00, 3.6270e+01, 1.0000e+00, 0.0000e+00, 5.7648e+03],\n",
      "        [3.4000e+01, 0.0000e+00, 2.7565e+01, 0.0000e+00, 0.0000e+00, 5.4916e+03],\n",
      "        [6.2000e+01, 0.0000e+00, 4.4571e+01, 2.0000e+00, 0.0000e+00, 1.6753e+04],\n",
      "        [3.2000e+01, 0.0000e+00, 4.3460e+01, 3.0000e+00, 0.0000e+00, 6.9678e+03],\n",
      "        [4.6000e+01, 1.0000e+00, 2.6091e+01, 0.0000e+00, 0.0000e+00, 7.8618e+03],\n",
      "        [3.6000e+01, 1.0000e+00, 3.3456e+01, 3.0000e+00, 0.0000e+00, 7.2030e+03],\n",
      "        [5.1000e+01, 1.0000e+00, 2.9718e+01, 0.0000e+00, 0.0000e+00, 9.6607e+03],\n",
      "        [2.7000e+01, 0.0000e+00, 3.5790e+01, 1.0000e+00, 0.0000e+00, 1.8476e+04]])\n",
      "targets: tensor([[ 1882.1295],\n",
      "        [ 7028.3154],\n",
      "        [ 5019.1265],\n",
      "        [11661.7959],\n",
      "        [23385.3164],\n",
      "        [ 4792.7480],\n",
      "        [11217.5498],\n",
      "        [ 2424.1096],\n",
      "        [ 5967.5259],\n",
      "        [ 2329.0728],\n",
      "        [ 3562.2793],\n",
      "        [24635.3184],\n",
      "        [20644.5117],\n",
      "        [ 5636.6074],\n",
      "        [11875.5312],\n",
      "        [43981.7695],\n",
      "        [19736.3164],\n",
      "        [42580.0938],\n",
      "        [15122.6592],\n",
      "        [ 7447.2119],\n",
      "        [ 3716.8010],\n",
      "        [10901.3955],\n",
      "        [15276.7656],\n",
      "        [ 3935.7988],\n",
      "        [20685.2285],\n",
      "        [ 7228.1270],\n",
      "        [ 5858.2163],\n",
      "        [ 9641.7734],\n",
      "        [ 3368.7590],\n",
      "        [11372.8252],\n",
      "        [ 2980.1685],\n",
      "        [ 2020.9607],\n",
      "        [26924.1270],\n",
      "        [14968.1055],\n",
      "        [ 2475.9187],\n",
      "        [ 1923.6514],\n",
      "        [ 4464.5835],\n",
      "        [ 2421.2068],\n",
      "        [ 6262.7734],\n",
      "        [ 1850.8567],\n",
      "        [ 6741.6772],\n",
      "        [29701.0840],\n",
      "        [12917.6289],\n",
      "        [ 6673.8394],\n",
      "        [26517.6035],\n",
      "        [ 2185.6267],\n",
      "        [12688.3604],\n",
      "        [26972.2910],\n",
      "        [ 4481.8989],\n",
      "        [ 2222.6074],\n",
      "        [ 9393.6377],\n",
      "        [31174.2070],\n",
      "        [18453.9336],\n",
      "        [36007.6055],\n",
      "        [12055.6641],\n",
      "        [10376.2178],\n",
      "        [ 5155.0273],\n",
      "        [12492.3271],\n",
      "        [ 7685.3667],\n",
      "        [ 8163.3140],\n",
      "        [44792.6055],\n",
      "        [ 5191.7100],\n",
      "        [ 5793.0020],\n",
      "        [15784.8398],\n",
      "        [ 9780.2539],\n",
      "        [ 7755.7061],\n",
      "        [ 2902.9473],\n",
      "        [ 8825.4492],\n",
      "        [15228.9570],\n",
      "        [14999.2021],\n",
      "        [11391.2051],\n",
      "        [ 6142.7363],\n",
      "        [10315.6953],\n",
      "        [ 5971.6006],\n",
      "        [ 4351.6787],\n",
      "        [ 4955.1284],\n",
      "        [ 7206.9253],\n",
      "        [37582.8984],\n",
      "        [ 9718.7910],\n",
      "        [10849.8193],\n",
      "        [21119.9375],\n",
      "        [53706.8945],\n",
      "        [ 4667.9492],\n",
      "        [ 1918.9115],\n",
      "        [ 1797.3580],\n",
      "        [12502.5469],\n",
      "        [ 4547.0059],\n",
      "        [ 5156.5767],\n",
      "        [12115.0830],\n",
      "        [ 1799.3070],\n",
      "        [ 9876.0039],\n",
      "        [ 7868.9092],\n",
      "        [ 6019.6938],\n",
      "        [15794.2012],\n",
      "        [15901.2080],\n",
      "        [27134.1602],\n",
      "        [ 8584.5762],\n",
      "        [53543.0703],\n",
      "        [ 2163.7249],\n",
      "        [ 7010.9131],\n",
      "        [ 1387.5862],\n",
      "        [13132.0820],\n",
      "        [18573.4160],\n",
      "        [ 5190.0239],\n",
      "        [22258.3398],\n",
      "        [49509.8516],\n",
      "        [24182.9180],\n",
      "        [17402.7695],\n",
      "        [13722.8867],\n",
      "        [54535.4297],\n",
      "        [20686.7598],\n",
      "        [ 7103.6279],\n",
      "        [25569.2695],\n",
      "        [ 9461.4619],\n",
      "        [ 9141.9229],\n",
      "        [ 5229.0005],\n",
      "        [11047.5742],\n",
      "        [28738.2422],\n",
      "        [15681.8125],\n",
      "        [51578.1875],\n",
      "        [ 5764.8413],\n",
      "        [ 5491.6143],\n",
      "        [16753.3574],\n",
      "        [ 6967.7778],\n",
      "        [ 7861.8154],\n",
      "        [ 7203.0146],\n",
      "        [ 9660.7158],\n",
      "        [18476.0527]])\n"
     ]
    }
   ],
   "source": [
    "for xb, yb in train_loader:\n",
    "    print(\"inputs:\", xb)\n",
    "    print(\"targets:\", yb)\n",
    "    break"
   ]
  },
  {
   "cell_type": "markdown",
   "metadata": {
    "id": "Bn4_y3Oqneed"
   },
   "source": [
    "Let's save our work by committing to Jovian."
   ]
  },
  {
   "cell_type": "code",
   "execution_count": null,
   "metadata": {
    "colab": {
     "base_uri": "https://localhost:8080/",
     "height": 123
    },
    "id": "dfj26bavneee",
    "outputId": "26958c29-ee86-4bb3-ccd1-9fd6c4017bf4"
   },
   "outputs": [
    {
     "name": "stdout",
     "output_type": "stream",
     "text": [
      "[jovian] Detected Colab notebook...\u001b[0m\n",
      "[jovian] Uploading colab notebook to Jovian...\u001b[0m\n",
      "[jovian] Attaching records (metrics, hyperparameters, dataset etc.)\u001b[0m\n",
      "[jovian] Committed successfully! https://jovian.ai/akinremibunmi111/02-insurance-linear-regression\u001b[0m\n"
     ]
    },
    {
     "data": {
      "application/vnd.google.colaboratory.intrinsic+json": {
       "type": "string"
      },
      "text/plain": [
       "'https://jovian.ai/akinremibunmi111/02-insurance-linear-regression'"
      ]
     },
     "execution_count": 180,
     "metadata": {
      "tags": []
     },
     "output_type": "execute_result"
    }
   ],
   "source": [
    "jovian.commit(project=project_name, environment=None)"
   ]
  },
  {
   "cell_type": "markdown",
   "metadata": {
    "id": "2ByRLo1rneef"
   },
   "source": [
    "## Step 3: Create a Linear Regression Model\n",
    "\n",
    "Our model itself is a fairly straightforward linear regression (we'll build more complex models in the next assignment). \n"
   ]
  },
  {
   "cell_type": "code",
   "execution_count": null,
   "metadata": {
    "id": "5xNkLD5gneef"
   },
   "outputs": [],
   "source": [
    "input_size = len(input_cols)\n",
    "output_size = len(output_cols)"
   ]
  },
  {
   "cell_type": "markdown",
   "metadata": {
    "id": "_NQYRDlrneeg"
   },
   "source": [
    "**Q: Complete the class definition below by filling out the constructor (`__init__`), `forward`, `training_step` and `validation_step` methods.**\n",
    "\n",
    "Hint: Think carefully about picking a good loss fuction (it's not cross entropy). Maybe try 2-3 of them and see which one works best. See https://pytorch.org/docs/stable/nn.functional.html#loss-functions"
   ]
  },
  {
   "cell_type": "code",
   "execution_count": null,
   "metadata": {
    "id": "1v6eLgLJneeh"
   },
   "outputs": [],
   "source": [
    "class InsuranceModel(nn.Module):\n",
    "    def __init__(self):\n",
    "        super().__init__() \n",
    "        self.linear = nn.Linear(input_size, output_size)                # fill this (hint: use input_size & output_size defined above)\n",
    "        \n",
    "    def forward(self, xb):\n",
    "        out = self.linear(xb)                         # fill this\n",
    "        return out\n",
    "    \n",
    "    def training_step(self, batch):\n",
    "        inputs, targets = batch \n",
    "        # Generate predictions\n",
    "        out = self(inputs)          \n",
    "        # Calcuate loss\n",
    "        loss = F.l1_loss(out, targets)                         # fill this\n",
    "        return loss\n",
    "    \n",
    "    def validation_step(self, batch):\n",
    "        inputs, targets = batch\n",
    "        # Generate predictions\n",
    "        out = self(inputs)\n",
    "        # Calculate loss\n",
    "        loss = F.l1_loss(out, targets)                           # fill this    \n",
    "        return {'val_loss': loss.detach()}\n",
    "        \n",
    "    def validation_epoch_end(self, outputs):\n",
    "        batch_losses = [x['val_loss'] for x in outputs]\n",
    "        epoch_loss = torch.stack(batch_losses).mean()   # Combine losses\n",
    "        return {'val_loss': epoch_loss.item()}\n",
    "    \n",
    "    def epoch_end(self, epoch, result, num_epochs):\n",
    "        # Print result every 20th epoch\n",
    "        if (epoch+1) % 20 == 0 or epoch == num_epochs-1:\n",
    "            print(\"Epoch [{}], val_loss: {:.4f}\".format(epoch+1, result['val_loss']))"
   ]
  },
  {
   "cell_type": "markdown",
   "metadata": {
    "id": "ubGJZJEQneei"
   },
   "source": [
    "Let us create a model using the `InsuranceModel` class. You may need to come back later and re-run the next cell to reinitialize the model, in case the loss becomes `nan` or `infinity`."
   ]
  },
  {
   "cell_type": "code",
   "execution_count": null,
   "metadata": {
    "id": "6otYfUHUneek"
   },
   "outputs": [],
   "source": [
    "model = InsuranceModel()"
   ]
  },
  {
   "cell_type": "markdown",
   "metadata": {
    "id": "eY0ijzNxneel"
   },
   "source": [
    "Let's check out the weights and biases of the model using `model.parameters`."
   ]
  },
  {
   "cell_type": "code",
   "execution_count": null,
   "metadata": {
    "colab": {
     "base_uri": "https://localhost:8080/"
    },
    "id": "Cv88Ce-Xneeo",
    "outputId": "cbe69fb8-c295-468a-b484-6ae678eb7068"
   },
   "outputs": [
    {
     "data": {
      "text/plain": [
       "[Parameter containing:\n",
       " tensor([[ 0.0919, -0.3914, -0.1830, -0.1930, -0.3440,  0.2151]],\n",
       "        requires_grad=True), Parameter containing:\n",
       " tensor([0.1622], requires_grad=True)]"
      ]
     },
     "execution_count": 184,
     "metadata": {
      "tags": []
     },
     "output_type": "execute_result"
    }
   ],
   "source": [
    "list(model.parameters())"
   ]
  },
  {
   "cell_type": "markdown",
   "metadata": {
    "id": "CoP8OB13neep"
   },
   "source": [
    "One final commit before we train the model."
   ]
  },
  {
   "cell_type": "code",
   "execution_count": null,
   "metadata": {
    "colab": {
     "base_uri": "https://localhost:8080/",
     "height": 123
    },
    "id": "PdjJZoHvneeq",
    "outputId": "f9f74190-0385-42e8-ccb1-dbd13ec1559d"
   },
   "outputs": [
    {
     "name": "stdout",
     "output_type": "stream",
     "text": [
      "[jovian] Detected Colab notebook...\u001b[0m\n",
      "[jovian] Uploading colab notebook to Jovian...\u001b[0m\n",
      "[jovian] Attaching records (metrics, hyperparameters, dataset etc.)\u001b[0m\n",
      "[jovian] Committed successfully! https://jovian.ai/akinremibunmi111/02-insurance-linear-regression\u001b[0m\n"
     ]
    },
    {
     "data": {
      "application/vnd.google.colaboratory.intrinsic+json": {
       "type": "string"
      },
      "text/plain": [
       "'https://jovian.ai/akinremibunmi111/02-insurance-linear-regression'"
      ]
     },
     "execution_count": 185,
     "metadata": {
      "tags": []
     },
     "output_type": "execute_result"
    }
   ],
   "source": [
    "jovian.commit(project=project_name, environment=None)"
   ]
  },
  {
   "cell_type": "markdown",
   "metadata": {
    "id": "ke-aFCvineer"
   },
   "source": [
    "## Step 4: Train the model to fit the data\n",
    "\n",
    "To train our model, we'll use the same `fit` function explained in the lecture. That's the benefit of defining a generic training loop - you can use it for any problem."
   ]
  },
  {
   "cell_type": "code",
   "execution_count": null,
   "metadata": {
    "id": "VLyvBH4Onees"
   },
   "outputs": [],
   "source": [
    "def evaluate(model, val_loader):\n",
    "    outputs = [model.validation_step(batch) for batch in val_loader]\n",
    "    return model.validation_epoch_end(outputs)\n",
    "\n",
    "def fit(epochs, lr, model, train_loader, val_loader, opt_func=torch.optim.SGD):\n",
    "    history = []\n",
    "    optimizer = opt_func(model.parameters(), lr)\n",
    "    for epoch in range(epochs):\n",
    "        # Training Phase \n",
    "        for batch in train_loader:\n",
    "            loss = model.training_step(batch)\n",
    "            loss.backward()\n",
    "            optimizer.step()\n",
    "            optimizer.zero_grad()\n",
    "        # Validation phase\n",
    "        result = evaluate(model, val_loader)\n",
    "        model.epoch_end(epoch, result, epochs)\n",
    "        history.append(result)\n",
    "    return history"
   ]
  },
  {
   "cell_type": "markdown",
   "metadata": {
    "id": "H_g8rZ8Pneet"
   },
   "source": [
    "**Q: Use the `evaluate` function to calculate the loss on the validation set before training.**"
   ]
  },
  {
   "cell_type": "code",
   "execution_count": null,
   "metadata": {
    "colab": {
     "base_uri": "https://localhost:8080/"
    },
    "id": "U9CzQbuBneet",
    "outputId": "29e1b4d3-244a-4e8f-f382-26ae13d54044"
   },
   "outputs": [
    {
     "name": "stdout",
     "output_type": "stream",
     "text": [
      "{'val_loss': 10555.265625}\n"
     ]
    }
   ],
   "source": [
    "result = evaluate(model, val_loader) # Use the the evaluate function\n",
    "print(result)"
   ]
  },
  {
   "cell_type": "markdown",
   "metadata": {
    "id": "Hub_tCwfneeu"
   },
   "source": [
    "\n",
    "We are now ready to train the model. You may need to run the training loop many times, for different number of epochs and with different learning rates, to get a good result. Also, if your loss becomes too large (or `nan`), you may have to re-initialize the model by running the cell `model = InsuranceModel()`. Experiment with this for a while, and try to get to as low a loss as possible."
   ]
  },
  {
   "cell_type": "markdown",
   "metadata": {
    "id": "3lqesYeLneew"
   },
   "source": [
    "**Q: Train the model 4-5 times with different learning rates & for different number of epochs.**\n",
    "\n",
    "Hint: Vary learning rates by orders of 10 (e.g. `1e-2`, `1e-3`, `1e-4`, `1e-5`, `1e-6`) to figure out what works."
   ]
  },
  {
   "cell_type": "code",
   "execution_count": null,
   "metadata": {
    "colab": {
     "base_uri": "https://localhost:8080/"
    },
    "id": "elyL7l5Qneey",
    "outputId": "8e9c8671-d214-4d30-afaf-374335805834"
   },
   "outputs": [
    {
     "name": "stdout",
     "output_type": "stream",
     "text": [
      "Epoch [20], val_loss: 1257530.3750\n",
      "Epoch [40], val_loss: 553743.8750\n",
      "Epoch [60], val_loss: 929849.7500\n",
      "Epoch [80], val_loss: 1023371.7500\n",
      "Epoch [100], val_loss: 1774708.7500\n"
     ]
    }
   ],
   "source": [
    "epochs = 100\n",
    "lr = 0.01\n",
    "history1 = fit(epochs, lr, model, train_loader, val_loader)"
   ]
  },
  {
   "cell_type": "code",
   "execution_count": null,
   "metadata": {
    "colab": {
     "base_uri": "https://localhost:8080/"
    },
    "id": "lmFYeywhneey",
    "outputId": "e3003558-ce14-44a0-bd3a-ba6ecc958b46"
   },
   "outputs": [
    {
     "name": "stdout",
     "output_type": "stream",
     "text": [
      "Epoch [20], val_loss: 183752.9375\n"
     ]
    }
   ],
   "source": [
    "epochs = 20\n",
    "lr = 0.001\n",
    "history2 = fit(epochs, lr, model, train_loader, val_loader)"
   ]
  },
  {
   "cell_type": "code",
   "execution_count": null,
   "metadata": {
    "colab": {
     "base_uri": "https://localhost:8080/"
    },
    "id": "AaEjQyZGneez",
    "outputId": "d1df35b1-e238-4ce8-d4a9-18251f48c9e1"
   },
   "outputs": [
    {
     "name": "stdout",
     "output_type": "stream",
     "text": [
      "Epoch [20], val_loss: 4731.0117\n",
      "Epoch [40], val_loss: 8828.4863\n",
      "Epoch [50], val_loss: 12403.7881\n"
     ]
    }
   ],
   "source": [
    "epochs = 50\n",
    "lr = 0.0001\n",
    "history3 = fit(epochs, lr, model, train_loader, val_loader)"
   ]
  },
  {
   "cell_type": "code",
   "execution_count": null,
   "metadata": {
    "colab": {
     "base_uri": "https://localhost:8080/"
    },
    "id": "equzWAtGnee0",
    "outputId": "8b006c46-1bde-4fed-9222-450c76cd8b70"
   },
   "outputs": [
    {
     "name": "stdout",
     "output_type": "stream",
     "text": [
      "Epoch [20], val_loss: 1282.4916\n"
     ]
    }
   ],
   "source": [
    "epochs = 20\n",
    "lr = 0.00001\n",
    "history4 = fit(epochs, lr, model, train_loader, val_loader)"
   ]
  },
  {
   "cell_type": "code",
   "execution_count": null,
   "metadata": {
    "colab": {
     "base_uri": "https://localhost:8080/"
    },
    "id": "-jdWIBH5nee2",
    "outputId": "48cd1476-fd3d-4951-9d50-0d0052b9fe0f"
   },
   "outputs": [
    {
     "name": "stdout",
     "output_type": "stream",
     "text": [
      "Epoch [5], val_loss: 54.1045\n"
     ]
    }
   ],
   "source": [
    "epochs = 5\n",
    "lr = 0.000001\n",
    "history5 = fit(epochs, lr, model, train_loader, val_loader)"
   ]
  },
  {
   "cell_type": "markdown",
   "metadata": {
    "id": "4GQqoCW2nee3"
   },
   "source": [
    "**Q: What is the final validation loss of your model?**"
   ]
  },
  {
   "cell_type": "code",
   "execution_count": null,
   "metadata": {
    "id": "HD7aQmtJnee5"
   },
   "outputs": [],
   "source": [
    "val_loss = 54.1045"
   ]
  },
  {
   "cell_type": "markdown",
   "metadata": {
    "id": "w1AGM0Aynee6"
   },
   "source": [
    "Let's log the final validation loss to Jovian and commit the notebook"
   ]
  },
  {
   "cell_type": "code",
   "execution_count": null,
   "metadata": {
    "colab": {
     "base_uri": "https://localhost:8080/"
    },
    "id": "mXa9TnHcnee6",
    "outputId": "452716b6-4c09-4783-cfdf-caa6344a842a"
   },
   "outputs": [
    {
     "name": "stdout",
     "output_type": "stream",
     "text": [
      "[jovian] Metrics logged.\u001b[0m\n"
     ]
    }
   ],
   "source": [
    "jovian.log_metrics(val_loss=val_loss)"
   ]
  },
  {
   "cell_type": "code",
   "execution_count": null,
   "metadata": {
    "colab": {
     "base_uri": "https://localhost:8080/",
     "height": 103
    },
    "id": "WdA6RhS2nee7",
    "outputId": "321f4082-a6b4-4a33-8dcc-f1aaf2aaa031"
   },
   "outputs": [
    {
     "name": "stdout",
     "output_type": "stream",
     "text": [
      "[jovian] Detected Colab notebook...\u001b[0m\n",
      "[jovian] Uploading colab notebook to Jovian...\u001b[0m\n",
      "[jovian] Attaching records (metrics, hyperparameters, dataset etc.)\u001b[0m\n",
      "[jovian] Committed successfully! https://jovian.ai/akinremibunmi111/02-insurance-linear-regression\u001b[0m\n"
     ]
    },
    {
     "data": {
      "application/vnd.google.colaboratory.intrinsic+json": {
       "type": "string"
      },
      "text/plain": [
       "'https://jovian.ai/akinremibunmi111/02-insurance-linear-regression'"
      ]
     },
     "execution_count": 199,
     "metadata": {
      "tags": []
     },
     "output_type": "execute_result"
    }
   ],
   "source": [
    "jovian.commit(project=project_name, environment=None)"
   ]
  },
  {
   "cell_type": "markdown",
   "metadata": {
    "id": "SHAhQ9Ztnee9"
   },
   "source": [
    "Now scroll back up, re-initialize the model, and try different set of values for batch size, number of epochs, learning rate etc. Commit each experiment and use the \"Compare\" and \"View Diff\" options on Jovian to compare the different results."
   ]
  },
  {
   "cell_type": "markdown",
   "metadata": {
    "id": "AK1aUpJwnee-"
   },
   "source": [
    "## Step 5: Make predictions using the trained model\n",
    "\n",
    "**Q: Complete the following function definition to make predictions on a single input**"
   ]
  },
  {
   "cell_type": "code",
   "execution_count": null,
   "metadata": {
    "id": "zP5cTU73nee_"
   },
   "outputs": [],
   "source": [
    "def predict_single(input, target, model):\n",
    "    inputs = input.unsqueeze(0)\n",
    "    predictions = model(inputs)                # fill this\n",
    "    prediction = predictions[0].detach()\n",
    "    print(\"Input:\", input)\n",
    "    print(\"Target:\", target)\n",
    "    print(\"Prediction:\", prediction)"
   ]
  },
  {
   "cell_type": "code",
   "execution_count": null,
   "metadata": {
    "colab": {
     "base_uri": "https://localhost:8080/"
    },
    "id": "3tOIrLP1nefA",
    "outputId": "2734abca-f7d6-4789-8949-42f02cff6b4a"
   },
   "outputs": [
    {
     "name": "stdout",
     "output_type": "stream",
     "text": [
      "Input: tensor([2.8000e+01, 0.0000e+00, 3.2175e+01, 2.0000e+00, 0.0000e+00, 2.2195e+04])\n",
      "Target: tensor([22195.4375])\n",
      "Prediction: tensor([22261.2598])\n"
     ]
    }
   ],
   "source": [
    "input, target = val_ds[0]\n",
    "predict_single(input, target, model)"
   ]
  },
  {
   "cell_type": "code",
   "execution_count": null,
   "metadata": {
    "colab": {
     "base_uri": "https://localhost:8080/"
    },
    "id": "fnw3oDg2nefB",
    "outputId": "0bcdaa02-263e-433a-bdea-85ded467dc3b"
   },
   "outputs": [
    {
     "name": "stdout",
     "output_type": "stream",
     "text": [
      "Input: tensor([2.9000e+01, 1.0000e+00, 2.6787e+01, 0.0000e+00, 1.0000e+00, 1.7753e+04])\n",
      "Target: tensor([17752.6387])\n",
      "Prediction: tensor([17795.8066])\n"
     ]
    }
   ],
   "source": [
    "input, target = val_ds[10]\n",
    "predict_single(input, target, model)"
   ]
  },
  {
   "cell_type": "code",
   "execution_count": null,
   "metadata": {
    "colab": {
     "base_uri": "https://localhost:8080/"
    },
    "id": "rBXD0NM3nefB",
    "outputId": "710bf0df-13c6-4cfd-d4eb-dabdd819f518"
   },
   "outputs": [
    {
     "name": "stdout",
     "output_type": "stream",
     "text": [
      "Input: tensor([4.0000e+01, 1.0000e+00, 3.6124e+01, 4.0000e+00, 0.0000e+00, 8.9790e+03])\n",
      "Target: tensor([8978.9883])\n",
      "Prediction: tensor([8946.8369])\n"
     ]
    }
   ],
   "source": [
    "input, target = val_ds[23]\n",
    "predict_single(input, target, model)"
   ]
  },
  {
   "cell_type": "markdown",
   "metadata": {
    "id": "9QWTcdtLnefC"
   },
   "source": [
    "Are you happy with your model's predictions? Try to improve them further."
   ]
  },
  {
   "cell_type": "markdown",
   "metadata": {
    "id": "0I35VYsNnefD"
   },
   "source": [
    "## (Optional) Step 6: Try another dataset & blog about it\n",
    "\n",
    "While this last step is optional for the submission of your assignment, we highly recommend that you do it. Try to replicate this notebook for a different linear regression or logistic regression problem. This will help solidify your understanding, and give you a chance to differentiate the generic patterns in machine learning from problem-specific details.You can use one of these starer notebooks (just change the dataset):\n",
    "\n",
    "- Linear regression (minimal): https://jovian.ai/aakashns/housing-linear-minimal\n",
    "- Logistic regression (minimal): https://jovian.ai/aakashns/mnist-logistic-minimal\n",
    "\n",
    "Here are some sources to find good datasets:\n",
    "\n",
    "- https://lionbridge.ai/datasets/10-open-datasets-for-linear-regression/\n",
    "- https://www.kaggle.com/rtatman/datasets-for-regression-analysis\n",
    "- https://archive.ics.uci.edu/ml/datasets.php?format=&task=reg&att=&area=&numAtt=&numIns=&type=&sort=nameUp&view=table\n",
    "- https://people.sc.fsu.edu/~jburkardt/datasets/regression/regression.html\n",
    "- https://archive.ics.uci.edu/ml/datasets/wine+quality\n",
    "- https://pytorch.org/docs/stable/torchvision/datasets.html\n",
    "\n",
    "We also recommend that you write a blog about your approach to the problem. Here is a suggested structure for your post (feel free to experiment with it):\n",
    "\n",
    "- Interesting title & subtitle\n",
    "- Overview of what the blog covers (which dataset, linear regression or logistic regression, intro to PyTorch)\n",
    "- Downloading & exploring the data\n",
    "- Preparing the data for training\n",
    "- Creating a model using PyTorch\n",
    "- Training the model to fit the data\n",
    "- Your thoughts on how to experiment with different hyperparmeters to reduce loss\n",
    "- Making predictions using the model\n",
    "\n",
    "As with the previous assignment, you can [embed Juptyer notebook cells & outputs from Jovian](https://medium.com/jovianml/share-and-embed-jupyter-notebooks-online-with-jovian-ml-df709a03064e) into your blog. \n",
    "\n",
    "Don't forget to share your work on the forum: https://jovian.ai/forum/t/linear-regression-and-logistic-regression-notebooks-and-blog-posts/14039"
   ]
  },
  {
   "cell_type": "code",
   "execution_count": null,
   "metadata": {
    "colab": {
     "base_uri": "https://localhost:8080/",
     "height": 103
    },
    "id": "j7TT1239nefE",
    "outputId": "f7c63ca8-70e1-42a4-fd45-b20681a8a8e0"
   },
   "outputs": [
    {
     "name": "stdout",
     "output_type": "stream",
     "text": [
      "[jovian] Detected Colab notebook...\u001b[0m\n",
      "[jovian] Uploading colab notebook to Jovian...\u001b[0m\n",
      "[jovian] Attaching records (metrics, hyperparameters, dataset etc.)\u001b[0m\n",
      "[jovian] Committed successfully! https://jovian.ai/akinremibunmi111/02-insurance-linear-regression\u001b[0m\n"
     ]
    },
    {
     "data": {
      "application/vnd.google.colaboratory.intrinsic+json": {
       "type": "string"
      },
      "text/plain": [
       "'https://jovian.ai/akinremibunmi111/02-insurance-linear-regression'"
      ]
     },
     "execution_count": 205,
     "metadata": {
      "tags": []
     },
     "output_type": "execute_result"
    }
   ],
   "source": [
    "jovian.commit(project=project_name, environment=None)\n",
    "#jovian.commit(project=project_name, environment=None) # try again, kaggle fails sometimes"
   ]
  },
  {
   "cell_type": "code",
   "execution_count": null,
   "metadata": {
    "id": "7-uwE6onnefH"
   },
   "outputs": [],
   "source": []
  }
 ],
 "metadata": {
  "colab": {
   "collapsed_sections": [],
   "name": "02-insurance-linear.ipynb",
   "provenance": []
  },
  "kernelspec": {
   "display_name": "Python 3",
   "language": "python",
   "name": "python3"
  },
  "language_info": {
   "codemirror_mode": {
    "name": "ipython",
    "version": 3
   },
   "file_extension": ".py",
   "mimetype": "text/x-python",
   "name": "python",
   "nbconvert_exporter": "python",
   "pygments_lexer": "ipython3",
   "version": "3.7.4"
  },
  "widgets": {
   "application/vnd.jupyter.widget-state+json": {
    "12d1688ed7d44f7097a98d4dddc09b17": {
     "model_module": "@jupyter-widgets/controls",
     "model_name": "DescriptionStyleModel",
     "state": {
      "_model_module": "@jupyter-widgets/controls",
      "_model_module_version": "1.5.0",
      "_model_name": "DescriptionStyleModel",
      "_view_count": null,
      "_view_module": "@jupyter-widgets/base",
      "_view_module_version": "1.2.0",
      "_view_name": "StyleView",
      "description_width": ""
     }
    },
    "1916051fd40a48b99544de6ae92684fb": {
     "model_module": "@jupyter-widgets/controls",
     "model_name": "FloatProgressModel",
     "state": {
      "_dom_classes": [],
      "_model_module": "@jupyter-widgets/controls",
      "_model_module_version": "1.5.0",
      "_model_name": "FloatProgressModel",
      "_view_count": null,
      "_view_module": "@jupyter-widgets/controls",
      "_view_module_version": "1.5.0",
      "_view_name": "ProgressView",
      "bar_style": "info",
      "description": "",
      "description_tooltip": null,
      "layout": "IPY_MODEL_d0841731e5ea4c0daa11153980751794",
      "max": 1,
      "min": 0,
      "orientation": "horizontal",
      "style": "IPY_MODEL_78dc634a48e5480ab284d62cc2616496",
      "value": 1
     }
    },
    "53970cf38a574aeb8be6fafc2829c311": {
     "model_module": "@jupyter-widgets/controls",
     "model_name": "HTMLModel",
     "state": {
      "_dom_classes": [],
      "_model_module": "@jupyter-widgets/controls",
      "_model_module_version": "1.5.0",
      "_model_name": "HTMLModel",
      "_view_count": null,
      "_view_module": "@jupyter-widgets/controls",
      "_view_module_version": "1.5.0",
      "_view_name": "HTMLView",
      "description": "",
      "description_tooltip": null,
      "layout": "IPY_MODEL_dba8755a964243b79c3d415869e39c37",
      "placeholder": "​",
      "style": "IPY_MODEL_12d1688ed7d44f7097a98d4dddc09b17",
      "value": " 57344/? [00:19&lt;00:00, 131137.53it/s]"
     }
    },
    "6fca92b3a83c443d8d78e032a338aedc": {
     "model_module": "@jupyter-widgets/controls",
     "model_name": "HBoxModel",
     "state": {
      "_dom_classes": [],
      "_model_module": "@jupyter-widgets/controls",
      "_model_module_version": "1.5.0",
      "_model_name": "HBoxModel",
      "_view_count": null,
      "_view_module": "@jupyter-widgets/controls",
      "_view_module_version": "1.5.0",
      "_view_name": "HBoxView",
      "box_style": "",
      "children": [
       "IPY_MODEL_1916051fd40a48b99544de6ae92684fb",
       "IPY_MODEL_53970cf38a574aeb8be6fafc2829c311"
      ],
      "layout": "IPY_MODEL_c3695fc1198b412891c9fa14806239b0"
     }
    },
    "78dc634a48e5480ab284d62cc2616496": {
     "model_module": "@jupyter-widgets/controls",
     "model_name": "ProgressStyleModel",
     "state": {
      "_model_module": "@jupyter-widgets/controls",
      "_model_module_version": "1.5.0",
      "_model_name": "ProgressStyleModel",
      "_view_count": null,
      "_view_module": "@jupyter-widgets/base",
      "_view_module_version": "1.2.0",
      "_view_name": "StyleView",
      "bar_color": null,
      "description_width": "initial"
     }
    },
    "c3695fc1198b412891c9fa14806239b0": {
     "model_module": "@jupyter-widgets/base",
     "model_name": "LayoutModel",
     "state": {
      "_model_module": "@jupyter-widgets/base",
      "_model_module_version": "1.2.0",
      "_model_name": "LayoutModel",
      "_view_count": null,
      "_view_module": "@jupyter-widgets/base",
      "_view_module_version": "1.2.0",
      "_view_name": "LayoutView",
      "align_content": null,
      "align_items": null,
      "align_self": null,
      "border": null,
      "bottom": null,
      "display": null,
      "flex": null,
      "flex_flow": null,
      "grid_area": null,
      "grid_auto_columns": null,
      "grid_auto_flow": null,
      "grid_auto_rows": null,
      "grid_column": null,
      "grid_gap": null,
      "grid_row": null,
      "grid_template_areas": null,
      "grid_template_columns": null,
      "grid_template_rows": null,
      "height": null,
      "justify_content": null,
      "justify_items": null,
      "left": null,
      "margin": null,
      "max_height": null,
      "max_width": null,
      "min_height": null,
      "min_width": null,
      "object_fit": null,
      "object_position": null,
      "order": null,
      "overflow": null,
      "overflow_x": null,
      "overflow_y": null,
      "padding": null,
      "right": null,
      "top": null,
      "visibility": null,
      "width": null
     }
    },
    "d0841731e5ea4c0daa11153980751794": {
     "model_module": "@jupyter-widgets/base",
     "model_name": "LayoutModel",
     "state": {
      "_model_module": "@jupyter-widgets/base",
      "_model_module_version": "1.2.0",
      "_model_name": "LayoutModel",
      "_view_count": null,
      "_view_module": "@jupyter-widgets/base",
      "_view_module_version": "1.2.0",
      "_view_name": "LayoutView",
      "align_content": null,
      "align_items": null,
      "align_self": null,
      "border": null,
      "bottom": null,
      "display": null,
      "flex": null,
      "flex_flow": null,
      "grid_area": null,
      "grid_auto_columns": null,
      "grid_auto_flow": null,
      "grid_auto_rows": null,
      "grid_column": null,
      "grid_gap": null,
      "grid_row": null,
      "grid_template_areas": null,
      "grid_template_columns": null,
      "grid_template_rows": null,
      "height": null,
      "justify_content": null,
      "justify_items": null,
      "left": null,
      "margin": null,
      "max_height": null,
      "max_width": null,
      "min_height": null,
      "min_width": null,
      "object_fit": null,
      "object_position": null,
      "order": null,
      "overflow": null,
      "overflow_x": null,
      "overflow_y": null,
      "padding": null,
      "right": null,
      "top": null,
      "visibility": null,
      "width": null
     }
    },
    "dba8755a964243b79c3d415869e39c37": {
     "model_module": "@jupyter-widgets/base",
     "model_name": "LayoutModel",
     "state": {
      "_model_module": "@jupyter-widgets/base",
      "_model_module_version": "1.2.0",
      "_model_name": "LayoutModel",
      "_view_count": null,
      "_view_module": "@jupyter-widgets/base",
      "_view_module_version": "1.2.0",
      "_view_name": "LayoutView",
      "align_content": null,
      "align_items": null,
      "align_self": null,
      "border": null,
      "bottom": null,
      "display": null,
      "flex": null,
      "flex_flow": null,
      "grid_area": null,
      "grid_auto_columns": null,
      "grid_auto_flow": null,
      "grid_auto_rows": null,
      "grid_column": null,
      "grid_gap": null,
      "grid_row": null,
      "grid_template_areas": null,
      "grid_template_columns": null,
      "grid_template_rows": null,
      "height": null,
      "justify_content": null,
      "justify_items": null,
      "left": null,
      "margin": null,
      "max_height": null,
      "max_width": null,
      "min_height": null,
      "min_width": null,
      "object_fit": null,
      "object_position": null,
      "order": null,
      "overflow": null,
      "overflow_x": null,
      "overflow_y": null,
      "padding": null,
      "right": null,
      "top": null,
      "visibility": null,
      "width": null
     }
    }
   }
  }
 },
 "nbformat": 4,
 "nbformat_minor": 1
}
